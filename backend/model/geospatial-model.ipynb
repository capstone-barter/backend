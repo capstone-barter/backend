{
 "cells": [
  {
   "cell_type": "code",
   "execution_count": 0,
   "metadata": {
    "application/vnd.databricks.v1+cell": {
     "cellMetadata": {
      "byteLimit": 2048000,
      "rowLimit": 10000
     },
     "inputWidgets": {},
     "nuid": "d6cd52a1-029d-4121-817e-e2a8739f5457",
     "showTitle": false,
     "title": ""
    }
   },
   "outputs": [
    {
     "output_type": "stream",
     "name": "stdout",
     "output_type": "stream",
     "text": [
      "Python interpreter will be restarted.\nRequirement already satisfied: azure-storage-file in /local_disk0/.ephemeral_nfs/envs/pythonEnv-27ad5bf4-200c-48f5-99cf-35774d9de25b/lib/python3.9/site-packages (2.1.0)\nRequirement already satisfied: azure-common>=1.1.5 in /local_disk0/.ephemeral_nfs/envs/pythonEnv-27ad5bf4-200c-48f5-99cf-35774d9de25b/lib/python3.9/site-packages (from azure-storage-file) (1.1.28)\nRequirement already satisfied: azure-storage-common~=2.1 in /local_disk0/.ephemeral_nfs/envs/pythonEnv-27ad5bf4-200c-48f5-99cf-35774d9de25b/lib/python3.9/site-packages (from azure-storage-file) (2.1.0)\nRequirement already satisfied: python-dateutil in /databricks/python3/lib/python3.9/site-packages (from azure-storage-common~=2.1->azure-storage-file) (2.8.2)\nRequirement already satisfied: requests in /databricks/python3/lib/python3.9/site-packages (from azure-storage-common~=2.1->azure-storage-file) (2.27.1)\nRequirement already satisfied: cryptography in /databricks/python3/lib/python3.9/site-packages (from azure-storage-common~=2.1->azure-storage-file) (3.4.8)\nRequirement already satisfied: cffi>=1.12 in /databricks/python3/lib/python3.9/site-packages (from cryptography->azure-storage-common~=2.1->azure-storage-file) (1.15.0)\nRequirement already satisfied: pycparser in /databricks/python3/lib/python3.9/site-packages (from cffi>=1.12->cryptography->azure-storage-common~=2.1->azure-storage-file) (2.21)\nRequirement already satisfied: six>=1.5 in /databricks/python3/lib/python3.9/site-packages (from python-dateutil->azure-storage-common~=2.1->azure-storage-file) (1.16.0)\nRequirement already satisfied: idna<4,>=2.5 in /databricks/python3/lib/python3.9/site-packages (from requests->azure-storage-common~=2.1->azure-storage-file) (3.3)\nRequirement already satisfied: charset-normalizer~=2.0.0 in /databricks/python3/lib/python3.9/site-packages (from requests->azure-storage-common~=2.1->azure-storage-file) (2.0.4)\nRequirement already satisfied: urllib3<1.27,>=1.21.1 in /databricks/python3/lib/python3.9/site-packages (from requests->azure-storage-common~=2.1->azure-storage-file) (1.26.9)\nRequirement already satisfied: certifi>=2017.4.17 in /databricks/python3/lib/python3.9/site-packages (from requests->azure-storage-common~=2.1->azure-storage-file) (2021.10.8)\nPython interpreter will be restarted.\n"
     ]
    }
   ],
   "source": [
    "pip install azure-storage-file"
   ]
  },
  {
   "cell_type": "code",
   "execution_count": 0,
   "metadata": {
    "application/vnd.databricks.v1+cell": {
     "cellMetadata": {
      "byteLimit": 2048000,
      "rowLimit": 10000
     },
     "inputWidgets": {},
     "nuid": "57e0f968-14c4-414c-b17a-30e0e785723b",
     "showTitle": false,
     "title": ""
    }
   },
   "outputs": [
    {
     "output_type": "stream",
     "name": "stdout",
     "output_type": "stream",
     "text": [
      "Python interpreter will be restarted.\nRequirement already satisfied: azure-storage-blob in /local_disk0/.ephemeral_nfs/envs/pythonEnv-27ad5bf4-200c-48f5-99cf-35774d9de25b/lib/python3.9/site-packages (12.16.0)\nRequirement already satisfied: isodate>=0.6.1 in /local_disk0/.ephemeral_nfs/envs/pythonEnv-27ad5bf4-200c-48f5-99cf-35774d9de25b/lib/python3.9/site-packages (from azure-storage-blob) (0.6.1)\nRequirement already satisfied: cryptography>=2.1.4 in /databricks/python3/lib/python3.9/site-packages (from azure-storage-blob) (3.4.8)\nRequirement already satisfied: azure-core<2.0.0,>=1.26.0 in /local_disk0/.ephemeral_nfs/envs/pythonEnv-27ad5bf4-200c-48f5-99cf-35774d9de25b/lib/python3.9/site-packages (from azure-storage-blob) (1.27.1)\nRequirement already satisfied: typing-extensions>=4.0.1 in /local_disk0/.ephemeral_nfs/envs/pythonEnv-27ad5bf4-200c-48f5-99cf-35774d9de25b/lib/python3.9/site-packages (from azure-storage-blob) (4.7.1)\nRequirement already satisfied: six>=1.11.0 in /databricks/python3/lib/python3.9/site-packages (from azure-core<2.0.0,>=1.26.0->azure-storage-blob) (1.16.0)\nRequirement already satisfied: requests>=2.18.4 in /databricks/python3/lib/python3.9/site-packages (from azure-core<2.0.0,>=1.26.0->azure-storage-blob) (2.27.1)\nRequirement already satisfied: cffi>=1.12 in /databricks/python3/lib/python3.9/site-packages (from cryptography>=2.1.4->azure-storage-blob) (1.15.0)\nRequirement already satisfied: pycparser in /databricks/python3/lib/python3.9/site-packages (from cffi>=1.12->cryptography>=2.1.4->azure-storage-blob) (2.21)\nRequirement already satisfied: idna<4,>=2.5 in /databricks/python3/lib/python3.9/site-packages (from requests>=2.18.4->azure-core<2.0.0,>=1.26.0->azure-storage-blob) (3.3)\nRequirement already satisfied: charset-normalizer~=2.0.0 in /databricks/python3/lib/python3.9/site-packages (from requests>=2.18.4->azure-core<2.0.0,>=1.26.0->azure-storage-blob) (2.0.4)\nRequirement already satisfied: urllib3<1.27,>=1.21.1 in /databricks/python3/lib/python3.9/site-packages (from requests>=2.18.4->azure-core<2.0.0,>=1.26.0->azure-storage-blob) (1.26.9)\nRequirement already satisfied: certifi>=2017.4.17 in /databricks/python3/lib/python3.9/site-packages (from requests>=2.18.4->azure-core<2.0.0,>=1.26.0->azure-storage-blob) (2021.10.8)\nPython interpreter will be restarted.\n"
     ]
    }
   ],
   "source": [
    "pip install azure-storage-blob\n"
   ]
  },
  {
   "cell_type": "markdown",
   "metadata": {
    "application/vnd.databricks.v1+cell": {
     "cellMetadata": {
      "byteLimit": 2048000,
      "rowLimit": 10000
     },
     "inputWidgets": {},
     "nuid": "be2f3c4c-d172-4ec8-9bb6-39643d607265",
     "showTitle": false,
     "title": ""
    }
   },
   "source": [
    "# Loading Data"
   ]
  },
  {
   "cell_type": "markdown",
   "metadata": {
    "application/vnd.databricks.v1+cell": {
     "cellMetadata": {
      "byteLimit": 2048000,
      "rowLimit": 10000
     },
     "inputWidgets": {},
     "nuid": "e9b281f8-d8f4-4341-b6f7-51b184d1d8d0",
     "showTitle": false,
     "title": ""
    }
   },
   "source": [
    "### Mounting Blob Storage"
   ]
  },
  {
   "cell_type": "code",
   "execution_count": 0,
   "metadata": {
    "application/vnd.databricks.v1+cell": {
     "cellMetadata": {
      "byteLimit": 2048000,
      "rowLimit": 10000
     },
     "inputWidgets": {},
     "nuid": "6deeee6b-a47b-4ab3-8123-fe1e89082471",
     "showTitle": false,
     "title": ""
    }
   },
   "outputs": [],
   "source": [
    "storage_account_name = \"bartercapstone\"\n",
    "storage_account_key = \"2N1aMMEBpbc35P9M6I3aLhYFwN3qOYqrg5+ofg0GVZ+uCnKR8FCgTfQVsE+8hAw3X07r2YM/L00w+AStBNTQjw==\"\n",
    "\n",
    "# Define the container and mount point for electricity consumption data\n",
    "container_name = \"electricityconsumption\"\n",
    "mount_point = \"/mnt/electricityconsumption\"\n",
    "\n",
    "# Get all mount points\n",
    "mount_points = [mnt.mountPoint for mnt in dbutils.fs.mounts()]\n",
    "\n",
    "# Mount Azure Blob Storage container to Databricks FS (if not already mounted)\n",
    "if mount_point not in mount_points:\n",
    "    try:\n",
    "        dbutils.fs.mount(\n",
    "            source=f\"wasbs://{container_name}@{storage_account_name}.blob.core.windows.net\",\n",
    "            mount_point=mount_point,\n",
    "            extra_configs={f\"fs.azure.account.key.{storage_account_name}.blob.core.windows.net\": storage_account_key}\n",
    "        )\n",
    "    except Exception as e:\n",
    "        print(f\"Unable to mount. {e}\")\n"
   ]
  },
  {
   "cell_type": "markdown",
   "metadata": {
    "application/vnd.databricks.v1+cell": {
     "cellMetadata": {
      "byteLimit": 2048000,
      "rowLimit": 10000
     },
     "inputWidgets": {},
     "nuid": "f336f8fb-eddb-4c50-8a6b-6544f04a3911",
     "showTitle": false,
     "title": ""
    }
   },
   "source": [
    "### Loading the Catastro Data"
   ]
  },
  {
   "cell_type": "code",
   "execution_count": 0,
   "metadata": {
    "application/vnd.databricks.v1+cell": {
     "cellMetadata": {
      "byteLimit": 2048000,
      "rowLimit": 10000
     },
     "inputWidgets": {},
     "nuid": "2b9a9efb-f303-4e1c-9b2b-2118ba62ec95",
     "showTitle": false,
     "title": ""
    }
   },
   "outputs": [
    {
     "output_type": "stream",
     "name": "stdout",
     "output_type": "stream",
     "text": [
      "Processing file in cadastral directory: cadastral_malaga.csv\n"
     ]
    }
   ],
   "source": [
    "# Initialize the two dataframes\n",
    "consumption_df = None\n",
    "cadastral_df = None\n",
    "\n",
    "# List all files in the cadastral directory\n",
    "cadastral_directory = mount_point + \"/cadastral\"\n",
    "cadastral_files = dbutils.fs.ls(cadastral_directory)\n",
    "\n",
    "for file in cadastral_files:\n",
    "    print(f\"Processing file in cadastral directory: {file.name}\")\n",
    "\n",
    "    # Load data with Spark\n",
    "    df = spark.read.format('csv').option('header', 'true').option('inferSchema', 'true').option('delimiter', ';').load(file.path)\n",
    "\n",
    "    # Concatenate the dataframes\n",
    "    if cadastral_df is None:\n",
    "        cadastral_df = df\n",
    "    else:\n",
    "        cadastral_df = cadastral_df.union(df)\n",
    "\n",
    "# display(cadastral_df.limit(100))"
   ]
  },
  {
   "cell_type": "markdown",
   "metadata": {
    "application/vnd.databricks.v1+cell": {
     "cellMetadata": {
      "byteLimit": 2048000,
      "rowLimit": 10000
     },
     "inputWidgets": {},
     "nuid": "378a0254-73d3-4015-bc7c-6e97ae2509ad",
     "showTitle": false,
     "title": ""
    }
   },
   "source": [
    "## Loading the Consumption Data"
   ]
  },
  {
   "cell_type": "code",
   "execution_count": 0,
   "metadata": {
    "application/vnd.databricks.v1+cell": {
     "cellMetadata": {
      "byteLimit": 2048000,
      "rowLimit": 10000
     },
     "inputWidgets": {},
     "nuid": "a5ab7c2a-d155-4e6c-955a-f25627f40d81",
     "showTitle": false,
     "title": ""
    }
   },
   "outputs": [
    {
     "output_type": "stream",
     "name": "stdout",
     "output_type": "stream",
     "text": [
      "Processing file in consumption directory: 202203_ELECTRICIDAD_MALAGA.csv\n"
     ]
    }
   ],
   "source": [
    "# List all files in the electricity consumption directory\n",
    "consumption_directory = mount_point + \"/electricityconsumption\"\n",
    "consumption_files = dbutils.fs.ls(consumption_directory)\n",
    "\n",
    "# for file in electricity_consumption_files:\n",
    "print(f\"Processing file in consumption directory: {consumption_files[0].name}\")\n",
    "\n",
    "# Load data with Spark\n",
    "df = spark.read.format('csv').option('header', 'true').option('inferSchema', 'true').load(consumption_files[0].path)\n",
    "\n",
    "# Concatenate the dataframes\n",
    "if consumption_df is None:\n",
    "    consumption_df = df\n",
    "else:\n",
    "    consumption_df = consumption_df.union(df)\n",
    "\n",
    "# display(consumption_df.limit(100))\n"
   ]
  },
  {
   "cell_type": "markdown",
   "metadata": {
    "application/vnd.databricks.v1+cell": {
     "cellMetadata": {
      "byteLimit": 2048000,
      "rowLimit": 10000
     },
     "inputWidgets": {},
     "nuid": "92d41ebc-594f-4ec4-8f4a-366e60267144",
     "showTitle": false,
     "title": ""
    }
   },
   "source": [
    "# Cleaning Data"
   ]
  },
  {
   "cell_type": "markdown",
   "metadata": {
    "application/vnd.databricks.v1+cell": {
     "cellMetadata": {
      "byteLimit": 2048000,
      "rowLimit": 10000
     },
     "inputWidgets": {},
     "nuid": "3e20db77-d72c-4fdf-8a41-92117ad19b58",
     "showTitle": false,
     "title": ""
    }
   },
   "source": [
    "### Cleaning Catastro Data"
   ]
  },
  {
   "cell_type": "code",
   "execution_count": 0,
   "metadata": {
    "application/vnd.databricks.v1+cell": {
     "cellMetadata": {
      "byteLimit": 2048000,
      "rowLimit": 10000
     },
     "inputWidgets": {},
     "nuid": "62d8d8f4-bc34-44d6-8fb4-10960ff076be",
     "showTitle": false,
     "title": ""
    }
   },
   "outputs": [],
   "source": [
    "from pyspark.sql.functions import regexp_replace\n",
    "from pyspark.sql.functions import count, avg, sum, mode, first, col\n",
    "\n",
    "columns_to_drop = [\"Codigo provincia (PROV)\", \"Codigo municipio (MUN)\", \"consulta\", \"Superficie suelo (SUPF)\", \"Superficie construida metros cuadrados (SUP)\", \"Escalera (ESC)\", \"Planta (PLA)\", \"Puerta (PUE)\", \"Superficie catastral (SEC)\", \"UEC analisis\"]\n",
    "\n",
    "cadastral_df = cadastral_df.drop(*columns_to_drop)\n",
    "# display(cadastral_df.limit(100))"
   ]
  },
  {
   "cell_type": "code",
   "execution_count": 0,
   "metadata": {
    "application/vnd.databricks.v1+cell": {
     "cellMetadata": {
      "byteLimit": 2048000,
      "rowLimit": 10000
     },
     "inputWidgets": {},
     "nuid": "242db25d-df7d-492c-865d-1319aef50553",
     "showTitle": false,
     "title": ""
    }
   },
   "outputs": [],
   "source": [
    "from pyspark.sql.functions import col, count, max, first, mode\n",
    "\n",
    "# this will essentially drop duplicates as above but will take the record with the max of CPA and the rest of the values from that record. This assumes that the size is the same for all as it is one catastro.\n",
    "cadastral_df = cadastral_df.groupBy(\"Referencia Catastral (RC)\").agg(\n",
    "    max(col(\"Coeficiente de participacion (CPA)\")), count(col(\"Uso (USO)\")), \n",
    "    first(col(\"Localizacion de la finca (LFI)\")).alias(\"Localizacion de la finca (LFI)\"),\n",
    "    first(col(\"Superficie construida (SUCF)\")).alias(\"Superficie construida (SUCF)\"),\n",
    "    mode(col(\"Tipo de Bien (TIP)\")).alias(\"Tipo de Bien (TIP)\"),\n",
    "    mode(col(\"Uso (USO)\")).alias(\"Uso (USO)\")\n",
    ")\n",
    "\n",
    "# modify the addresses, so that they can be better understand by API\n",
    "cadastral_df = cadastral_df.withColumn('Localizacion de la finca (LFI)', regexp_replace(cadastral_df['Localizacion de la finca (LFI)'], 'CL ', 'Calle '))\n",
    "cadastral_df = cadastral_df.withColumn('Localizacion de la finca (LFI)', regexp_replace(cadastral_df['Localizacion de la finca (LFI)'], 'AV ', 'Avenida '))\n",
    "cadastral_df = cadastral_df.withColumn('Localizacion de la finca (LFI)', regexp_replace(cadastral_df['Localizacion de la finca (LFI)'], 'PZ ', 'Plaza '))\n",
    "cadastral_df = cadastral_df.withColumn('Localizacion de la finca (LFI)', regexp_replace(cadastral_df['Localizacion de la finca (LFI)'], 'PJ ', 'Pasaje '))\n",
    "cadastral_df = cadastral_df.withColumn('Localizacion de la finca (LFI)', regexp_replace(cadastral_df['Localizacion de la finca (LFI)'], 'CM ', 'Camino '))\n",
    "cadastral_df = cadastral_df.withColumn('Localizacion de la finca (LFI)', regexp_replace(cadastral_df['Localizacion de la finca (LFI)'], 'Calle ALCALDE GUILLERMO REINA ', 'Calle del ALCALDE GUILLERMO REIN '))\n",
    "cadastral_df = cadastral_df.withColumn('Localizacion de la finca (LFI)', regexp_replace(cadastral_df['Localizacion de la finca (LFI)'], 'Calle ANIBAL ', 'Calle ANIBA '))\n",
    "\n",
    "# display(cadastral_df.limit(100))"
   ]
  },
  {
   "cell_type": "markdown",
   "metadata": {
    "application/vnd.databricks.v1+cell": {
     "cellMetadata": {
      "byteLimit": 2048000,
      "rowLimit": 10000
     },
     "inputWidgets": {},
     "nuid": "66ac49bc-9676-49e2-aee1-e99799f0d7b9",
     "showTitle": false,
     "title": ""
    }
   },
   "source": [
    "### Cleaning Consumption Data"
   ]
  },
  {
   "cell_type": "code",
   "execution_count": 0,
   "metadata": {
    "application/vnd.databricks.v1+cell": {
     "cellMetadata": {
      "byteLimit": 2048000,
      "rowLimit": 10000
     },
     "inputWidgets": {},
     "nuid": "47941b17-5c69-4d49-861c-b845e9060bf9",
     "showTitle": false,
     "title": ""
    }
   },
   "outputs": [],
   "source": [
    "from pyspark.sql.functions import col,sum\n",
    "\n",
    "# \"fechaInicioMesConsumo\", \"fechaFinMesConsumo\",\n",
    "columns_to_keep = [\"cups\", \"nombreEmpresaDistribuidora\", \"codigoPostalPS\",  \"consumoEnergiaActivaEnWhP1\", \"consumoEnergiaActivaEnWhP2\", \"consumoEnergiaActivaEnWhP3\", \"consumoEnergiaActivaEnWhP4\", \"consumoEnergiaActivaEnWhP5\", \"consumoEnergiaActivaEnWhP6\", \"codigoTipoSuministro\", \"CNAE\", \"informacionImpagos\", \"codigoTarifaATR\", \"aplicacionBonoSocial\", \"tipoPerfilConsumo\"]\n",
    "consumption_df = consumption_df.select(columns_to_keep)\n",
    "\n",
    "# summing the energy consumption\n",
    "energy_columns = [\"consumoEnergiaActivaEnWhP1\", \"consumoEnergiaActivaEnWhP2\", \"consumoEnergiaActivaEnWhP3\", \"consumoEnergiaActivaEnWhP4\", \"consumoEnergiaActivaEnWhP5\", \"consumoEnergiaActivaEnWhP6\"]\n",
    "\n",
    "consumption_df = consumption_df.fillna(0, subset=energy_columns)\n",
    "consumption_df = consumption_df.withColumn('totalConsumoEnergiaActivaEnWh', col('consumoEnergiaActivaEnWhP1') + col('consumoEnergiaActivaEnWhP2') + col('consumoEnergiaActivaEnWhP3') + col('consumoEnergiaActivaEnWhP4') + col('consumoEnergiaActivaEnWhP5') + col('consumoEnergiaActivaEnWhP6'))\n",
    "\n",
    "# average the consumption per CUPS\n",
    "consumption_df = consumption_df.groupBy(\"cups\").agg(first(\"codigoPostalPS\").alias(\"codigoPostalPS\"), first(\"nombreEmpresaDistribuidora\").alias(\"nombreEmpresaDistribuidora\"), avg(\"totalConsumoEnergiaActivaEnWh\").alias(\"avg_month_consumption\"), first(\"codigoTipoSuministro\"), first(\"CNAE\"), first(\"informacionImpagos\"), first(\"codigoTarifaATR\"), first(\"aplicacionBonoSocial\"), first(\"tipoPerfilConsumo\"))\n"
   ]
  },
  {
   "cell_type": "code",
   "execution_count": 0,
   "metadata": {
    "application/vnd.databricks.v1+cell": {
     "cellMetadata": {
      "byteLimit": 2048000,
      "rowLimit": 10000
     },
     "inputWidgets": {},
     "nuid": "8d773ad7-bfb9-48e4-89f9-c3f1e6278744",
     "showTitle": false,
     "title": ""
    }
   },
   "outputs": [
    {
     "output_type": "display_data",
     "data": {
      "text/html": [
       "<style scoped>\n",
       "  .table-result-container {\n",
       "    max-height: 300px;\n",
       "    overflow: auto;\n",
       "  }\n",
       "  table, th, td {\n",
       "    border: 1px solid black;\n",
       "    border-collapse: collapse;\n",
       "  }\n",
       "  th, td {\n",
       "    padding: 5px;\n",
       "  }\n",
       "  th {\n",
       "    text-align: left;\n",
       "  }\n",
       "</style><div class='table-result-container'><table class='table-result'><thead style='background-color: white'><tr><th>cups</th><th>codigoPostalPS</th><th>nombreEmpresaDistribuidora</th><th>avg_month_consumption</th><th>first(codigoTipoSuministro)</th><th>first(CNAE)</th><th>first(informacionImpagos)</th><th>first(codigoTarifaATR)</th><th>first(aplicacionBonoSocial)</th><th>first(tipoPerfilConsumo)</th></tr></thead><tbody><tr><td>ES0031101457515001AK0F</td><td>29004</td><td>ENDESA DISTRIBUCION ELECTRICA, S.L.</td><td>1.1734641463414635E8</td><td>UV</td><td>4639</td><td>0</td><td>20</td><td>0</td><td>null</td></tr><tr><td>ES0031101457519001QL0F</td><td>29010</td><td>ENDESA DISTRIBUCION ELECTRICA, S.L.</td><td>1.59560575E8</td><td>UV</td><td>8411</td><td>0</td><td>20</td><td>0</td><td>null</td></tr><tr><td>ES0031101457527001LS0F</td><td>29004</td><td>ENDESA DISTRIBUCION ELECTRICA, S.L.</td><td>1.2400691891891892E8</td><td>UV</td><td>5510</td><td>0</td><td>20</td><td>0</td><td>null</td></tr><tr><td>ES0031101457529001ZZ0F</td><td>29007</td><td>ENDESA DISTRIBUCION ELECTRICA, S.L.</td><td>2.116341E8</td><td>UV</td><td>8610</td><td>0</td><td>20</td><td>0</td><td>null</td></tr><tr><td>ES0031101457531001DJ0F</td><td>29009</td><td>ENDESA DISTRIBUCION ELECTRICA, S.L.</td><td>3.5558425E7</td><td>UV</td><td>5813</td><td>0</td><td>20</td><td>0</td><td>null</td></tr><tr><td>ES0031101457535001EB0F</td><td>29016</td><td>ENDESA DISTRIBUCION ELECTRICA, S.L.</td><td>4.16161E7</td><td>UV</td><td>8411</td><td>0</td><td>20</td><td>0</td><td>null</td></tr><tr><td>ES0031101457549001XG0F</td><td>29014</td><td>ENDESA DISTRIBUCION ELECTRICA, S.L.</td><td>8755125.0</td><td>UV</td><td>3600</td><td>0</td><td>20</td><td>0</td><td>null</td></tr><tr><td>ES0031101457552001WZ0F</td><td>29004</td><td>ENDESA DISTRIBUCION ELECTRICA, S.L.</td><td>1.563102380952381E7</td><td>UV</td><td>3600</td><td>0</td><td>20</td><td>0</td><td>null</td></tr><tr><td>ES0031101457554001CJ0F</td><td>29006</td><td>ENDESA DISTRIBUCION ELECTRICA, S.L.</td><td>2.7418894736842107E7</td><td>UV</td><td>1414</td><td>0</td><td>20</td><td>0</td><td>null</td></tr><tr><td>ES0031101457555001HR0F</td><td>29006</td><td>ENDESA DISTRIBUCION ELECTRICA, S.L.</td><td>4.311491891891892E7</td><td>UV</td><td>4711</td><td>0</td><td>20</td><td>0</td><td>null</td></tr></tbody></table></div>"
      ]
     },
     "metadata": {
      "application/vnd.databricks.v1+output": {
       "addedWidgets": {},
       "aggData": [],
       "aggError": "",
       "aggOverflow": false,
       "aggSchema": [],
       "aggSeriesLimitReached": false,
       "aggType": "",
       "arguments": {},
       "columnCustomDisplayInfos": {},
       "data": [
        [
         "ES0031101457515001AK0F",
         29004,
         "ENDESA DISTRIBUCION ELECTRICA, S.L.",
         1.1734641463414635E8,
         "UV",
         4639,
         "0",
         20,
         0,
         null
        ],
        [
         "ES0031101457519001QL0F",
         29010,
         "ENDESA DISTRIBUCION ELECTRICA, S.L.",
         1.59560575E8,
         "UV",
         8411,
         "0",
         20,
         0,
         null
        ],
        [
         "ES0031101457527001LS0F",
         29004,
         "ENDESA DISTRIBUCION ELECTRICA, S.L.",
         1.2400691891891892E8,
         "UV",
         5510,
         "0",
         20,
         0,
         null
        ],
        [
         "ES0031101457529001ZZ0F",
         29007,
         "ENDESA DISTRIBUCION ELECTRICA, S.L.",
         2.116341E8,
         "UV",
         8610,
         "0",
         20,
         0,
         null
        ],
        [
         "ES0031101457531001DJ0F",
         29009,
         "ENDESA DISTRIBUCION ELECTRICA, S.L.",
         3.5558425E7,
         "UV",
         5813,
         "0",
         20,
         0,
         null
        ],
        [
         "ES0031101457535001EB0F",
         29016,
         "ENDESA DISTRIBUCION ELECTRICA, S.L.",
         4.16161E7,
         "UV",
         8411,
         "0",
         20,
         0,
         null
        ],
        [
         "ES0031101457549001XG0F",
         29014,
         "ENDESA DISTRIBUCION ELECTRICA, S.L.",
         8755125.0,
         "UV",
         3600,
         "0",
         20,
         0,
         null
        ],
        [
         "ES0031101457552001WZ0F",
         29004,
         "ENDESA DISTRIBUCION ELECTRICA, S.L.",
         1.563102380952381E7,
         "UV",
         3600,
         "0",
         20,
         0,
         null
        ],
        [
         "ES0031101457554001CJ0F",
         29006,
         "ENDESA DISTRIBUCION ELECTRICA, S.L.",
         2.7418894736842107E7,
         "UV",
         1414,
         "0",
         20,
         0,
         null
        ],
        [
         "ES0031101457555001HR0F",
         29006,
         "ENDESA DISTRIBUCION ELECTRICA, S.L.",
         4.311491891891892E7,
         "UV",
         4711,
         "0",
         20,
         0,
         null
        ]
       ],
       "datasetInfos": [],
       "dbfsResultPath": null,
       "isJsonSchema": true,
       "metadata": {},
       "overflow": false,
       "plotOptions": {
        "customPlotOptions": {},
        "displayType": "table",
        "pivotAggregation": null,
        "pivotColumns": null,
        "xColumns": null,
        "yColumns": null
       },
       "removedWidgets": [],
       "schema": [
        {
         "metadata": "{}",
         "name": "cups",
         "type": "\"string\""
        },
        {
         "metadata": "{}",
         "name": "codigoPostalPS",
         "type": "\"integer\""
        },
        {
         "metadata": "{}",
         "name": "nombreEmpresaDistribuidora",
         "type": "\"string\""
        },
        {
         "metadata": "{}",
         "name": "avg_month_consumption",
         "type": "\"double\""
        },
        {
         "metadata": "{}",
         "name": "first(codigoTipoSuministro)",
         "type": "\"string\""
        },
        {
         "metadata": "{}",
         "name": "first(CNAE)",
         "type": "\"integer\""
        },
        {
         "metadata": "{}",
         "name": "first(informacionImpagos)",
         "type": "\"string\""
        },
        {
         "metadata": "{}",
         "name": "first(codigoTarifaATR)",
         "type": "\"integer\""
        },
        {
         "metadata": "{}",
         "name": "first(aplicacionBonoSocial)",
         "type": "\"integer\""
        },
        {
         "metadata": "{}",
         "name": "first(tipoPerfilConsumo)",
         "type": "\"string\""
        }
       ],
       "type": "table"
      }
     },
     "output_type": "display_data"
    }
   ],
   "source": [
    "display(consumption_df.limit(10))"
   ]
  },
  {
   "cell_type": "markdown",
   "metadata": {
    "application/vnd.databricks.v1+cell": {
     "cellMetadata": {
      "byteLimit": 2048000,
      "rowLimit": 10000
     },
     "inputWidgets": {},
     "nuid": "4eaee8ae-e297-4a04-9b16-2528e765cd84",
     "showTitle": false,
     "title": ""
    }
   },
   "source": [
    "# Feature Engineering"
   ]
  },
  {
   "cell_type": "markdown",
   "metadata": {
    "application/vnd.databricks.v1+cell": {
     "cellMetadata": {
      "byteLimit": 2048000,
      "rowLimit": 10000
     },
     "inputWidgets": {},
     "nuid": "43cbea10-b0e2-4966-a1a8-f6f99743fe38",
     "showTitle": false,
     "title": ""
    }
   },
   "source": [
    "### Adding postcode to each catastro"
   ]
  },
  {
   "cell_type": "code",
   "execution_count": 0,
   "metadata": {
    "application/vnd.databricks.v1+cell": {
     "cellMetadata": {
      "byteLimit": 2048000,
      "rowLimit": 10000
     },
     "inputWidgets": {},
     "nuid": "02e0b503-2687-4dd8-b795-81b3993734bf",
     "showTitle": false,
     "title": ""
    }
   },
   "outputs": [],
   "source": [
    "from pyspark.sql.functions import udf\n",
    "import requests\n",
    "\n",
    "# Define a UDF to retrieve postal codes using the Google Maps Geocoding API\n",
    "api_key = \"\"\n",
    "def get_postal_code(address):\n",
    "    url = f\"https://maps.googleapis.com/maps/api/geocode/json?address={address}&key={api_key}\"\n",
    "    response = requests.get(url)\n",
    "    data = response.json()\n",
    "    if data[\"results\"]:\n",
    "        result = data[\"results\"][0]\n",
    "        for component in result[\"address_components\"]:\n",
    "            if \"postal_code\" in component[\"types\"]:\n",
    "                return component[\"long_name\"]\n",
    "    return None\n",
    "\n",
    "get_postal_code_udf = udf(get_postal_code)\n",
    "cadastral_df = cadastral_df.withColumn(\"codigoPostalPS\", get_postal_code_udf(cadastral_df[\"Localizacion de la finca (LFI)\"]))\n"
   ]
  },
  {
   "cell_type": "code",
   "execution_count": 0,
   "metadata": {
    "application/vnd.databricks.v1+cell": {
     "cellMetadata": {
      "byteLimit": 2048000,
      "rowLimit": 10000
     },
     "inputWidgets": {},
     "nuid": "2267237f-0927-4af3-aa05-e1349595d0db",
     "showTitle": false,
     "title": ""
    }
   },
   "outputs": [],
   "source": [
    "clean_cadastral_df = cadastral_df.filter(col(\"codigoPostalPS\").isNotNull())\n",
    "\n",
    "\n",
    "#We drop the postcodes because if we want to fix this it will be done manually. \n",
    "#the reason some addresses return null is because there are some typos for example, they are missing an accent so the google maps api doesn't recognize them. "
   ]
  },
  {
   "cell_type": "code",
   "execution_count": 0,
   "metadata": {
    "application/vnd.databricks.v1+cell": {
     "cellMetadata": {
      "byteLimit": 2048000,
      "rowLimit": 10000
     },
     "inputWidgets": {},
     "nuid": "67568d2b-2827-4654-a531-33f829b37e10",
     "showTitle": false,
     "title": ""
    }
   },
   "outputs": [
    {
     "output_type": "display_data",
     "data": {
      "text/html": [
       "<style scoped>\n",
       "  .table-result-container {\n",
       "    max-height: 300px;\n",
       "    overflow: auto;\n",
       "  }\n",
       "  table, th, td {\n",
       "    border: 1px solid black;\n",
       "    border-collapse: collapse;\n",
       "  }\n",
       "  th, td {\n",
       "    padding: 5px;\n",
       "  }\n",
       "  th {\n",
       "    text-align: left;\n",
       "  }\n",
       "</style><div class='table-result-container'><table class='table-result'><thead style='background-color: white'><tr><th>Referencia Catastral (RC)</th><th>max(Coeficiente de participacion (CPA))</th><th>count(Uso (USO))</th><th>Localizacion de la finca (LFI)</th><th>Superficie construida (SUCF)</th><th>Tipo de Bien (TIP)</th><th>Uso (USO)</th><th>codigoPostalPS</th></tr></thead><tbody><tr><td>000400100UF66B</td><td>100</td><td>5</td><td>Camino PRADOS LOS 47 MALAGA (M�LAGA)</td><td>8.887</td><td>RU</td><td>Agrario</td><td>29006</td></tr><tr><td>000700500UF66B</td><td>100</td><td>1</td><td>CR AZUCARERA INTELHORCE 13 MALAGA (M�LAGA)</td><td>898.0</td><td>RU</td><td>Industrial agr.</td><td>29004</td></tr><tr><td>0017109UF7601N</td><td>100</td><td>5</td><td>Avenida VELAZQUEZ 107 MALAGA (M�LAGA)</td><td>1.648</td><td>UR</td><td>Comercial</td><td>29004</td></tr><tr><td>0021501UF7602S</td><td>100</td><td>3</td><td>Avenida VIRGEN DE BELEN 12 MALAGA (M�LAGA)</td><td>1.503</td><td>UR</td><td>Religioso</td><td>29004</td></tr><tr><td>0021502UF7602S</td><td>100</td><td>4</td><td>Avenida VIRGEN DE BELEN 10 MALAGA (M�LAGA)</td><td>1.223</td><td>UR</td><td>Cultural</td><td>29004</td></tr><tr><td>0021801UF7602S</td><td>100</td><td>8</td><td>Avenida VIRGEN DE BELEN 11 MALAGA (M�LAGA)</td><td>5.838</td><td>UR</td><td>Cultural</td><td>29004</td></tr><tr><td>0021803UF7602S</td><td>3,44</td><td>52</td><td>Calle CHICO DEL MATADERO 10 MALAGA (M�LAGA)</td><td>2.465</td><td>UR</td><td>Residencial</td><td>29004</td></tr><tr><td>0021805UF7602S</td><td>100</td><td>1</td><td>Calle CHICO DEL MATADERO 12 MALAGA (M�LAGA)</td><td>38.0</td><td>UR</td><td>Almac�n,Estac.</td><td>29004</td></tr><tr><td>0022101UF7602S</td><td>5,021</td><td>134</td><td>Avenida BONAIRE 12 MALAGA (M�LAGA)</td><td>5.538</td><td>UR</td><td>Residencial</td><td>29004</td></tr><tr><td>0022201UF7602S</td><td>1,61</td><td>63</td><td>Avenida BONAIRE 7 MALAGA (M�LAGA)</td><td>4.857</td><td>UR</td><td>Residencial</td><td>29004</td></tr></tbody></table></div>"
      ]
     },
     "metadata": {
      "application/vnd.databricks.v1+output": {
       "addedWidgets": {},
       "aggData": [],
       "aggError": "",
       "aggOverflow": false,
       "aggSchema": [],
       "aggSeriesLimitReached": false,
       "aggType": "",
       "arguments": {},
       "columnCustomDisplayInfos": {},
       "data": [
        [
         "000400100UF66B",
         "100",
         5,
         "Camino PRADOS LOS 47 MALAGA (M�LAGA)",
         8.887,
         "RU",
         "Agrario",
         "29006"
        ],
        [
         "000700500UF66B",
         "100",
         1,
         "CR AZUCARERA INTELHORCE 13 MALAGA (M�LAGA)",
         898.0,
         "RU",
         "Industrial agr.",
         "29004"
        ],
        [
         "0017109UF7601N",
         "100",
         5,
         "Avenida VELAZQUEZ 107 MALAGA (M�LAGA)",
         1.648,
         "UR",
         "Comercial",
         "29004"
        ],
        [
         "0021501UF7602S",
         "100",
         3,
         "Avenida VIRGEN DE BELEN 12 MALAGA (M�LAGA)",
         1.503,
         "UR",
         "Religioso",
         "29004"
        ],
        [
         "0021502UF7602S",
         "100",
         4,
         "Avenida VIRGEN DE BELEN 10 MALAGA (M�LAGA)",
         1.223,
         "UR",
         "Cultural",
         "29004"
        ],
        [
         "0021801UF7602S",
         "100",
         8,
         "Avenida VIRGEN DE BELEN 11 MALAGA (M�LAGA)",
         5.838,
         "UR",
         "Cultural",
         "29004"
        ],
        [
         "0021803UF7602S",
         "3,44",
         52,
         "Calle CHICO DEL MATADERO 10 MALAGA (M�LAGA)",
         2.465,
         "UR",
         "Residencial",
         "29004"
        ],
        [
         "0021805UF7602S",
         "100",
         1,
         "Calle CHICO DEL MATADERO 12 MALAGA (M�LAGA)",
         38.0,
         "UR",
         "Almac�n,Estac.",
         "29004"
        ],
        [
         "0022101UF7602S",
         "5,021",
         134,
         "Avenida BONAIRE 12 MALAGA (M�LAGA)",
         5.538,
         "UR",
         "Residencial",
         "29004"
        ],
        [
         "0022201UF7602S",
         "1,61",
         63,
         "Avenida BONAIRE 7 MALAGA (M�LAGA)",
         4.857,
         "UR",
         "Residencial",
         "29004"
        ]
       ],
       "datasetInfos": [],
       "dbfsResultPath": null,
       "isJsonSchema": true,
       "metadata": {},
       "overflow": false,
       "plotOptions": {
        "customPlotOptions": {},
        "displayType": "table",
        "pivotAggregation": null,
        "pivotColumns": null,
        "xColumns": null,
        "yColumns": null
       },
       "removedWidgets": [],
       "schema": [
        {
         "metadata": "{}",
         "name": "Referencia Catastral (RC)",
         "type": "\"string\""
        },
        {
         "metadata": "{}",
         "name": "max(Coeficiente de participacion (CPA))",
         "type": "\"string\""
        },
        {
         "metadata": "{}",
         "name": "count(Uso (USO))",
         "type": "\"long\""
        },
        {
         "metadata": "{}",
         "name": "Localizacion de la finca (LFI)",
         "type": "\"string\""
        },
        {
         "metadata": "{}",
         "name": "Superficie construida (SUCF)",
         "type": "\"double\""
        },
        {
         "metadata": "{}",
         "name": "Tipo de Bien (TIP)",
         "type": "\"string\""
        },
        {
         "metadata": "{}",
         "name": "Uso (USO)",
         "type": "\"string\""
        },
        {
         "metadata": "{}",
         "name": "codigoPostalPS",
         "type": "\"string\""
        }
       ],
       "type": "table"
      }
     },
     "output_type": "display_data"
    }
   ],
   "source": [
    "display(clean_cadastral_df.limit(10))"
   ]
  },
  {
   "cell_type": "markdown",
   "metadata": {
    "application/vnd.databricks.v1+cell": {
     "cellMetadata": {
      "byteLimit": 2048000,
      "rowLimit": 10000
     },
     "inputWidgets": {},
     "nuid": "5b1e6fa9-5277-4b3c-9074-08174c808d69",
     "showTitle": false,
     "title": ""
    }
   },
   "source": [
    "# Creating KPIs"
   ]
  },
  {
   "cell_type": "markdown",
   "metadata": {
    "application/vnd.databricks.v1+cell": {
     "cellMetadata": {
      "byteLimit": 2048000,
      "rowLimit": 10000
     },
     "inputWidgets": {},
     "nuid": "ee240994-f8cb-4665-9152-4558cbfb80d6",
     "showTitle": false,
     "title": ""
    }
   },
   "source": [
    "### Filtering postcodes"
   ]
  },
  {
   "cell_type": "code",
   "execution_count": 0,
   "metadata": {
    "application/vnd.databricks.v1+cell": {
     "cellMetadata": {
      "byteLimit": 2048000,
      "rowLimit": 10000
     },
     "inputWidgets": {},
     "nuid": "239172b1-500e-43e4-aa94-d5292b34ab5b",
     "showTitle": false,
     "title": ""
    }
   },
   "outputs": [],
   "source": [
    "target_postcodes = clean_cadastral_df.select(\"codigoPostalPS\").distinct()\n",
    "filtered_consumption_df = consumption_df.join(target_postcodes, consumption_df[\"codigoPostalPS\"] == target_postcodes[\"codigoPostalPS\"], \"inner\").drop(target_postcodes.codigoPostalPS)\n"
   ]
  },
  {
   "cell_type": "markdown",
   "metadata": {
    "application/vnd.databricks.v1+cell": {
     "cellMetadata": {
      "byteLimit": 2048000,
      "rowLimit": 10000
     },
     "inputWidgets": {},
     "nuid": "c42241ca-057a-4f82-8b50-97ef84855b15",
     "showTitle": false,
     "title": ""
    }
   },
   "source": [
    "### Creating KPIs"
   ]
  },
  {
   "cell_type": "code",
   "execution_count": 0,
   "metadata": {
    "application/vnd.databricks.v1+cell": {
     "cellMetadata": {
      "byteLimit": 2048000,
      "rowLimit": 10000
     },
     "inputWidgets": {},
     "nuid": "02055f28-d11d-4c79-9a2d-b81e45c025a1",
     "showTitle": false,
     "title": ""
    }
   },
   "outputs": [],
   "source": [
    "from pyspark.sql.functions import countDistinct\n",
    "\n",
    "# Calculate the amount of catastros per postcode\n",
    "catastro_count_per_postcode = clean_cadastral_df.groupBy(\"codigoPostalPS\").agg(countDistinct(\"Referencia Catastral (RC)\").alias(\"catastro_count\"))\n",
    "\n",
    "# Calculate the amount of catastros per postcode\n",
    "cups_count_per_postcode = filtered_consumption_df.groupBy(\"codigoPostalPS\").agg(countDistinct(\"cups\").alias(\"cups_count\"))\n",
    "\n",
    "#here we sum all the values of count(*) which represents the number of households/offices per CUPS\n",
    "households_count_per_postcode = clean_cadastral_df.groupBy(\"codigoPostalPS\").agg(sum(\"count(Uso (USO))\").alias(\"number_of_households\"))\n",
    "\n",
    "# Calculate the average consumption per postcode\n",
    "avg_consumption_per_postcode = filtered_consumption_df.groupBy(\"codigoPostalPS\").agg(avg(\"avg_month_consumption\").alias(\"avg_consumption\"))\n",
    "\n",
    "# Calculate the average size per postcode\n",
    "avg_size_per_postcode = clean_cadastral_df.groupBy(\"codigoPostalPS\").agg(avg(\"Superficie construida (SUCF)\").alias(\"avg_superficie\"))\n",
    "\n",
    "# average particpation\n",
    "avg_participation_per_postcode = clean_cadastral_df.groupBy(\"codigoPostalPS\").agg(avg(\"max(Coeficiente de participacion (CPA))\").alias(\"avg_participation\"))\n",
    "\n",
    "# average first(informacionImpagos)\n",
    "avg_impagos_per_postcode = filtered_consumption_df.groupBy(\"codigoPostalPS\").agg(avg(\"first(informacionImpagos)\").alias(\"avg_info_impagos\"))\n",
    "\n",
    "# average first(aplicacionBonoSocial)\n",
    "avg_bono_social_per_postcode = filtered_consumption_df.groupBy(\"codigoPostalPS\").agg(avg(\"first(aplicacionBonoSocial)\").alias(\"avg_bono_social\"))\n",
    "\n",
    "# Modify column names for the clean_cadastral_df DataFrame\n",
    "catastro_type_per_postcode = clean_cadastral_df.groupBy(\"codigoPostalPS\") \\\n",
    "    .pivot(\"Uso (USO)\") \\\n",
    "    .agg(count(\"*\").alias(\"count\")) \\\n",
    "    .fillna(0)\n",
    "\n",
    "# Modify column names for the filtered_consumption_df DataFrame\n",
    "tariffs_per_postcode = filtered_consumption_df.groupBy(\"codigoPostalPS\") \\\n",
    "    .pivot(\"first(codigoTarifaATR)\") \\\n",
    "    .agg(count(\"*\").alias(\"count\")) \\\n",
    "    .fillna(0)\n",
    "\n",
    "tipoPerfilConsumo_per_postcode = filtered_consumption_df.groupBy(\"codigoPostalPS\") \\\n",
    "    .pivot(\"first(tipoPerfilConsumo)\") \\\n",
    "    .agg(count(\"*\").alias(\"count\")) \\\n",
    "    .fillna(0)\n",
    "\n",
    "avg_consumption_per_CNAE_and_Postcode = filtered_consumption_df.groupBy('codigoPostalPS','first(CNAE)').agg(avg('avg_month_consumption').alias('avg_consumption_by_CNAE_and_Postcode'))\n",
    "\n",
    "### Further KPIs. Could include in future.###\n",
    "\n",
    "# # rate of payment defaults for different types of economic activities per postcode.\n",
    "# avg_impagos_per_CNAE_and_Postcode = filtered_consumption_df.groupBy(\"codigoPostalPS\",\"first(CNAE)\").agg(avg(\"first(informacionImpagos)\").alias(\"avg_info_impagos_CNAE\"))\n",
    "\n",
    "# #Analyze how energy consumption differs across different types of economic activities and per postcode\n",
    "# avg_consumption_per_CNAE_and_Postcode = filtered_consumption_df.groupBy('codigoPostalPS','first(CNAE)').agg(avg('avg_month_consumption').alias('avg_consumption_by_CNAE_and_Postcode'))\n",
    "\n",
    "# #see how often the bono social is being applied per CNAE and postcode\n",
    "# avg_bono_social_per_CNAE_and_Postcode= filtered_consumption_df.groupBy('codigoPostalPS','first(CNAE)').agg(avg('first(aplicacionBonoSocial)').alias('bono_application_rate_per_CNAE_and_Postcode'))\n",
    "\n",
    "# #See which tarrifs occurs the most frequent per CNAE and zipcode\n",
    "# most_recurring_ATRtarifa_per_RCNAE_and_Postcode= filtered_consumption_df.groupBy('codigoPostalPS','first(CNAE)').agg(mode(\"first(codigoTarifaATR)\").alias('Recurring_codigoTarifaATR_per_CNAE_and_Postcode'))\n",
    "\n",
    "# #See which Type of Consumption Profile occurs the most frequent per CNAE and zipcode\n",
    "# most_recurring_TipoPerfilConsumo_per_RCNAE_and_Postcode= filtered_consumption_df.groupBy('codigoPostalPS','first(CNAE)').agg(mode(\"first(tipoPerfilConsumo)\").alias('Recurring_tipoPerfilConsumo_per_CNAE_and_Postcode'))\n",
    "\n",
    "# #See the occurernce of a payment default if a bonosocial was provided per zipcode\n",
    "#count_informacionImpagos_given_aplicacionBonoSocial_and_Postcode= filtered_consumption_df.groupBy('codigoPostalPS','first(aplicacionBonoSocial)').agg(count(\"first(informacionImpagos)\").alias('count_defaultpayment_given_aplicacionBonoSocial_and_Postcode'))\n",
    "\n",
    "# #See the number of a payment default per CNAE and zipcode\n",
    "#count_informacionImpagos_per_CNAE_and_Postcode= filtered_consumption_df.groupBy('codigoPostalPS','first(CNAE)').agg(count(\"first(informacionImpagos)\").alias('count_defaultpayment_per_CNAE_and_Postcode'))\n",
    "\n",
    "\n",
    "# Add a preface to the column names\n",
    "prefixed_columns = [\"codigoPostalPS\"] + [f\"catastro_{col_name}\" for col_name in catastro_type_per_postcode.columns[1:]]\n",
    "catastro_type_per_postcode = catastro_type_per_postcode.toDF(*prefixed_columns)\n",
    "\n",
    "prefixed_columns = [\"codigoPostalPS\"] + [f\"tariffs_{col_name}\" for col_name in tariffs_per_postcode.columns[1:]]\n",
    "tariffs_per_postcode = tariffs_per_postcode.toDF(*prefixed_columns)\n",
    "\n",
    "prefixed_columns = [\"codigoPostalPS\"] + [f\"tipoPerfilConsumo_{col_name}\" for col_name in tipoPerfilConsumo_per_postcode.columns[1:]]\n",
    "tipoPerfilConsumo_per_postcode = tipoPerfilConsumo_per_postcode.toDF(*prefixed_columns)\n",
    "\n"
   ]
  },
  {
   "cell_type": "code",
   "execution_count": 0,
   "metadata": {
    "application/vnd.databricks.v1+cell": {
     "cellMetadata": {
      "byteLimit": 2048000,
      "rowLimit": 10000
     },
     "inputWidgets": {},
     "nuid": "8390bdc3-d666-4435-8efd-f41e75ac4e1b",
     "showTitle": false,
     "title": ""
    }
   },
   "outputs": [],
   "source": [
    "# Apply the function to the 'CNAE' column in your DataFrame\n",
    "from pyspark.sql.functions import udf\n",
    "from pyspark.sql.types import StringType\n",
    "\n",
    "group_dict = {\n",
    "    'A.- AGRICULTURA, GANADERÍA, SILVICULTURA Y PESCA': range(111, 323),\n",
    "    'B.- INDUSTRIAS EXTRACTIVAS': range(510, 991),\n",
    "    'C.- INDUSTRIA MANUFACTURERA': range(1011, 3321),\n",
    "    'D.- SUMINISTRO DE ENERGÍA ELÉCTRICA, GAS, VAPOR Y AIRE ACONDICIONADO': range(3512, 3531),\n",
    "    'E.- SUMINISTRO DE AGUA, ACTIVIDADES DE SANEAMIENTO, GESTIÓN DE RESIDUOS Y DESCONTAMINACIÓN': range(3600, 3901),\n",
    "    'F.- CONSTRUCCIÓN': range(4110, 4400),\n",
    "    'G.- COMERCIO AL POR MAYOR Y AL POR MENOR; REPARACIÓN DE VEHÍCULOS DE MOTOR Y MOTOCICLETAS': range(4511, 4800),\n",
    "    'H.- TRANSPORTE Y ALMACENAMIENTO': range (4910,5321),\n",
    "    'I.- HOSTELERÍA': range(5510,5631),\n",
    "    'J.- INFORMACIÓN Y COMUNICACIONES': range(5811,6400),\n",
    "    'K.- ACTIVIDADES FINANCIERAS Y DE SEGUROS':range(6411,6631),\n",
    "    'L.- ACTIVIDADES INMOBILIARIAS': range(6810,6833),\n",
    "    'M.- ACTIVIDADES PROFESIONALES, CIENTÍFICAS Y TÉCNICAS': range(6910,7501),\n",
    "    'N.- ACTIVIDADES ADMINISTRATIVAS Y SERVICIOS AUXLIARES': range(7711,8300),\n",
    "    'O.- ADMINISTRACIÓN PÚBLICA Y DEFENSA; SEGURIDAD SOCIAL OBLIGATORIA': range(8411,8431),\n",
    "    'P.- EDUCACIÓN': range(8510,8561),\n",
    "    'Q.- ACTIVIDADES SANITARIAS Y DE SERVICIOS SOCIALES': range(8610,8900),\n",
    "    'R.- ACTIVIDADES ARTÍSTICAS, RECREATIVAS Y DE ENTRENIMIENTO': range (9001,9330),\n",
    "    'S.- OTROS SERVICIOS': range(9411,9610),\n",
    "    'T.- ACTIVIDADES DE LOS HOGARES COMO EMPLEADORES DE PERSONAL DOMÉSTICO': range(9700,9821),\n",
    "    'U.- ACTIVIDADES DE ORGANIZACIONES Y ORGANISMOS EXTRATERRITORIALES': range(9900,10000),\n",
    "\n",
    "}\n",
    "\n",
    "# Function to map CNAE codes to their groups\n",
    "def map_cnae_to_group(cnae_code):\n",
    "    for group, code_range in group_dict.items():\n",
    "        if cnae_code in code_range:\n",
    "            return group\n",
    "    return 'Unknown Group'\n",
    "\n",
    "# Define the UDF (User-Defined Function) to map CNAE values to groups\n",
    "map_cnae_to_group_udf = udf(map_cnae_to_group, StringType())\n",
    "\n",
    "# Add the 'Group_CNAE' column using the UDF\n",
    "filtered_consumption_df = filtered_consumption_df.withColumn('Group_CNAE', map_cnae_to_group_udf(filtered_consumption_df['first(CNAE)']))\n",
    "\n",
    "cnae_per_postcode = filtered_consumption_df.groupBy(\"codigoPostalPS\") \\\n",
    "    .pivot(\"Group_CNAE\") \\\n",
    "    .agg(count(\"*\").alias(\"count\")) \\\n",
    "    .fillna(0)\n",
    "\n",
    "prefixed_columns = [\"codigoPostalPS\"] + [f\"group_cnae_{col_name}\" for col_name in cnae_per_postcode.columns[1:]]\n",
    "cnae_per_postcode = cnae_per_postcode.toDF(*prefixed_columns)"
   ]
  },
  {
   "cell_type": "code",
   "execution_count": 0,
   "metadata": {
    "application/vnd.databricks.v1+cell": {
     "cellMetadata": {
      "byteLimit": 2048000,
      "rowLimit": 10000
     },
     "inputWidgets": {},
     "nuid": "7d30cc16-5a22-4e37-8994-f66622248c85",
     "showTitle": false,
     "title": ""
    }
   },
   "outputs": [
    {
     "output_type": "display_data",
     "data": {
      "text/html": [
       "<style scoped>\n",
       "  .table-result-container {\n",
       "    max-height: 300px;\n",
       "    overflow: auto;\n",
       "  }\n",
       "  table, th, td {\n",
       "    border: 1px solid black;\n",
       "    border-collapse: collapse;\n",
       "  }\n",
       "  th, td {\n",
       "    padding: 5px;\n",
       "  }\n",
       "  th {\n",
       "    text-align: left;\n",
       "  }\n",
       "</style><div class='table-result-container'><table class='table-result'><thead style='background-color: white'><tr><th>codigoPostalPS</th><th>catastro_count</th><th>cups_count</th><th>number_of_households</th><th>avg_consumption</th><th>avg_superficie</th><th>avg_participation</th><th>avg_info_impagos</th><th>avg_bono_social</th><th>catastro_Agrario</th><th>catastro_Almac�n,Estac.</th><th>catastro_Comercial</th><th>catastro_Cultural</th><th>catastro_Deportivo</th><th>catastro_Edif. Singular</th><th>catastro_Espect�culos</th><th>catastro_Industrial</th><th>catastro_Industrial agr.</th><th>catastro_Ocio,Hosteler�a</th><th>catastro_Oficinas</th><th>catastro_Religioso</th><th>catastro_Residencial</th><th>catastro_Sanidad,Benefic</th><th>catastro_Suelo sin edif.</th><th>tariffs_1</th><th>tariffs_3</th><th>tariffs_4</th><th>tariffs_5</th><th>tariffs_6</th><th>tariffs_7</th><th>tariffs_8</th><th>tariffs_11</th><th>tariffs_12</th><th>tariffs_18</th><th>tariffs_19</th><th>tariffs_20</th><th>tipoPerfilConsumo_null</th><th>tipoPerfilConsumo_P2.0TD</th><th>tipoPerfilConsumo_P3.0TD</th><th>group_cnae_A.- AGRICULTURA, GANADERÍA, SILVICULTURA Y PESCA</th><th>group_cnae_B.- INDUSTRIAS EXTRACTIVAS</th><th>group_cnae_C.- INDUSTRIA MANUFACTURERA</th><th>group_cnae_D.- SUMINISTRO DE ENERGÍA ELÉCTRICA, GAS, VAPOR Y AIRE ACONDICIONADO</th><th>group_cnae_E.- SUMINISTRO DE AGUA, ACTIVIDADES DE SANEAMIENTO, GESTIÓN DE RESIDUOS Y DESCONTAMINACIÓN</th><th>group_cnae_F.- CONSTRUCCIÓN</th><th>group_cnae_G.- COMERCIO AL POR MAYOR Y AL POR MENOR; REPARACIÓN DE VEHÍCULOS DE MOTOR Y MOTOCICLETAS</th><th>group_cnae_H.- TRANSPORTE Y ALMACENAMIENTO</th><th>group_cnae_I.- HOSTELERÍA</th><th>group_cnae_J.- INFORMACIÓN Y COMUNICACIONES</th><th>group_cnae_K.- ACTIVIDADES FINANCIERAS Y DE SEGUROS</th><th>group_cnae_L.- ACTIVIDADES INMOBILIARIAS</th><th>group_cnae_M.- ACTIVIDADES PROFESIONALES, CIENTÍFICAS Y TÉCNICAS</th><th>group_cnae_N.- ACTIVIDADES ADMINISTRATIVAS Y SERVICIOS AUXLIARES</th><th>group_cnae_O.- ADMINISTRACIÓN PÚBLICA Y DEFENSA; SEGURIDAD SOCIAL OBLIGATORIA</th><th>group_cnae_P.- EDUCACIÓN</th><th>group_cnae_Q.- ACTIVIDADES SANITARIAS Y DE SERVICIOS SOCIALES</th><th>group_cnae_R.- ACTIVIDADES ARTÍSTICAS, RECREATIVAS Y DE ENTRENIMIENTO</th><th>group_cnae_S.- OTROS SERVICIOS</th><th>group_cnae_T.- ACTIVIDADES DE LOS HOGARES COMO EMPLEADORES DE PERSONAL DOMÉSTICO</th><th>group_cnae_U.- ACTIVIDADES DE ORGANIZACIONES Y ORGANISMOS EXTRATERRITORIALES</th><th>group_cnae_Unknown Group</th></tr></thead><tbody><tr><td>29006</td><td>779</td><td>29480</td><td>6259</td><td>552319.1765375816</td><td>282.14158292512235</td><td>98.49885057471265</td><td>0.01960651289009498</td><td>0.06010854816824966</td><td>1</td><td>9</td><td>26</td><td>1</td><td>8</td><td>1</td><td>5</td><td>269</td><td>0</td><td>8</td><td>15</td><td>4</td><td>428</td><td>2</td><td>0</td><td>3204</td><td>216</td><td>1941</td><td>95</td><td>60</td><td>3</td><td>0</td><td>7</td><td>3</td><td>23020</td><td>872</td><td>59</td><td>429</td><td>28093</td><td>958</td><td>8</td><td>1</td><td>305</td><td>7</td><td>45</td><td>110</td><td>1203</td><td>1747</td><td>304</td><td>189</td><td>67</td><td>46</td><td>100</td><td>170</td><td>185</td><td>63</td><td>48</td><td>65</td><td>234</td><td>24536</td><td>1</td><td>46</td></tr><tr><td>29190</td><td>3</td><td>9267</td><td>417</td><td>385881.1437178201</td><td>6.8693333333333335</td><td>null</td><td>0.014028272364303443</td><td>0.05179669796050502</td><td>0</td><td>0</td><td>0</td><td>0</td><td>0</td><td>0</td><td>0</td><td>0</td><td>0</td><td>0</td><td>0</td><td>0</td><td>3</td><td>0</td><td>0</td><td>697</td><td>21</td><td>489</td><td>6</td><td>9</td><td>1</td><td>0</td><td>2</td><td>0</td><td>7897</td><td>136</td><td>9</td><td>83</td><td>9045</td><td>139</td><td>23</td><td>0</td><td>43</td><td>1</td><td>47</td><td>89</td><td>155</td><td>219</td><td>64</td><td>16</td><td>10</td><td>19</td><td>10</td><td>21</td><td>74</td><td>20</td><td>14</td><td>18</td><td>53</td><td>8356</td><td>0</td><td>15</td></tr><tr><td>29004</td><td>258</td><td>32413</td><td>21665</td><td>646302.8073648231</td><td>197.39161487964986</td><td>92.11811023622047</td><td>0.013914170240335668</td><td>0.0447659889550489</td><td>0</td><td>9</td><td>6</td><td>6</td><td>2</td><td>1</td><td>1</td><td>37</td><td>1</td><td>5</td><td>3</td><td>1</td><td>184</td><td>3</td><td>0</td><td>2899</td><td>220</td><td>1650</td><td>75</td><td>62</td><td>0</td><td>0</td><td>9</td><td>6</td><td>26264</td><td>1145</td><td>83</td><td>534</td><td>30736</td><td>1143</td><td>14</td><td>3</td><td>206</td><td>12</td><td>44</td><td>112</td><td>1322</td><td>1319</td><td>422</td><td>197</td><td>62</td><td>67</td><td>159</td><td>202</td><td>196</td><td>59</td><td>48</td><td>75</td><td>215</td><td>27643</td><td>1</td><td>35</td></tr><tr><td>29003</td><td>127</td><td>17403</td><td>13761</td><td>260690.8636416219</td><td>66.43285714285715</td><td>90.6734693877551</td><td>0.022237545250818825</td><td>0.08061828420387289</td><td>0</td><td>2</td><td>6</td><td>8</td><td>0</td><td>0</td><td>0</td><td>10</td><td>0</td><td>1</td><td>0</td><td>0</td><td>97</td><td>0</td><td>0</td><td>2088</td><td>43</td><td>1006</td><td>15</td><td>12</td><td>0</td><td>0</td><td>0</td><td>1</td><td>14076</td><td>155</td><td>7</td><td>164</td><td>17065</td><td>174</td><td>4</td><td>0</td><td>41</td><td>0</td><td>18</td><td>21</td><td>486</td><td>398</td><td>165</td><td>44</td><td>15</td><td>14</td><td>26</td><td>29</td><td>61</td><td>31</td><td>22</td><td>36</td><td>84</td><td>15888</td><td>0</td><td>20</td></tr><tr><td>29010</td><td>5</td><td>40488</td><td>181</td><td>421776.1209052699</td><td>73.5</td><td>100.0</td><td>0.012818612922347362</td><td>0.05134854771784232</td><td>0</td><td>0</td><td>0</td><td>0</td><td>0</td><td>0</td><td>0</td><td>0</td><td>0</td><td>0</td><td>0</td><td>0</td><td>5</td><td>0</td><td>0</td><td>2853</td><td>129</td><td>2089</td><td>50</td><td>34</td><td>4</td><td>0</td><td>5</td><td>0</td><td>34597</td><td>692</td><td>35</td><td>319</td><td>39439</td><td>730</td><td>8</td><td>1</td><td>138</td><td>1</td><td>58</td><td>93</td><td>847</td><td>632</td><td>375</td><td>155</td><td>56</td><td>41</td><td>89</td><td>141</td><td>200</td><td>95</td><td>68</td><td>49</td><td>209</td><td>37160</td><td>0</td><td>72</td></tr></tbody></table></div>"
      ]
     },
     "metadata": {
      "application/vnd.databricks.v1+output": {
       "addedWidgets": {},
       "aggData": [],
       "aggError": "",
       "aggOverflow": false,
       "aggSchema": [],
       "aggSeriesLimitReached": false,
       "aggType": "",
       "arguments": {},
       "columnCustomDisplayInfos": {},
       "data": [
        [
         "29006",
         779,
         29480,
         6259,
         552319.1765375816,
         282.14158292512235,
         98.49885057471265,
         0.01960651289009498,
         0.06010854816824966,
         1,
         9,
         26,
         1,
         8,
         1,
         5,
         269,
         0,
         8,
         15,
         4,
         428,
         2,
         0,
         3204,
         216,
         1941,
         95,
         60,
         3,
         0,
         7,
         3,
         23020,
         872,
         59,
         429,
         28093,
         958,
         8,
         1,
         305,
         7,
         45,
         110,
         1203,
         1747,
         304,
         189,
         67,
         46,
         100,
         170,
         185,
         63,
         48,
         65,
         234,
         24536,
         1,
         46
        ],
        [
         "29190",
         3,
         9267,
         417,
         385881.1437178201,
         6.8693333333333335,
         null,
         0.014028272364303443,
         0.05179669796050502,
         0,
         0,
         0,
         0,
         0,
         0,
         0,
         0,
         0,
         0,
         0,
         0,
         3,
         0,
         0,
         697,
         21,
         489,
         6,
         9,
         1,
         0,
         2,
         0,
         7897,
         136,
         9,
         83,
         9045,
         139,
         23,
         0,
         43,
         1,
         47,
         89,
         155,
         219,
         64,
         16,
         10,
         19,
         10,
         21,
         74,
         20,
         14,
         18,
         53,
         8356,
         0,
         15
        ],
        [
         "29004",
         258,
         32413,
         21665,
         646302.8073648231,
         197.39161487964986,
         92.11811023622047,
         0.013914170240335668,
         0.0447659889550489,
         0,
         9,
         6,
         6,
         2,
         1,
         1,
         37,
         1,
         5,
         3,
         1,
         184,
         3,
         0,
         2899,
         220,
         1650,
         75,
         62,
         0,
         0,
         9,
         6,
         26264,
         1145,
         83,
         534,
         30736,
         1143,
         14,
         3,
         206,
         12,
         44,
         112,
         1322,
         1319,
         422,
         197,
         62,
         67,
         159,
         202,
         196,
         59,
         48,
         75,
         215,
         27643,
         1,
         35
        ],
        [
         "29003",
         127,
         17403,
         13761,
         260690.8636416219,
         66.43285714285715,
         90.6734693877551,
         0.022237545250818825,
         0.08061828420387289,
         0,
         2,
         6,
         8,
         0,
         0,
         0,
         10,
         0,
         1,
         0,
         0,
         97,
         0,
         0,
         2088,
         43,
         1006,
         15,
         12,
         0,
         0,
         0,
         1,
         14076,
         155,
         7,
         164,
         17065,
         174,
         4,
         0,
         41,
         0,
         18,
         21,
         486,
         398,
         165,
         44,
         15,
         14,
         26,
         29,
         61,
         31,
         22,
         36,
         84,
         15888,
         0,
         20
        ],
        [
         "29010",
         5,
         40488,
         181,
         421776.1209052699,
         73.5,
         100.0,
         0.012818612922347362,
         0.05134854771784232,
         0,
         0,
         0,
         0,
         0,
         0,
         0,
         0,
         0,
         0,
         0,
         0,
         5,
         0,
         0,
         2853,
         129,
         2089,
         50,
         34,
         4,
         0,
         5,
         0,
         34597,
         692,
         35,
         319,
         39439,
         730,
         8,
         1,
         138,
         1,
         58,
         93,
         847,
         632,
         375,
         155,
         56,
         41,
         89,
         141,
         200,
         95,
         68,
         49,
         209,
         37160,
         0,
         72
        ]
       ],
       "datasetInfos": [],
       "dbfsResultPath": null,
       "isJsonSchema": true,
       "metadata": {},
       "overflow": false,
       "plotOptions": {
        "customPlotOptions": {},
        "displayType": "table",
        "pivotAggregation": null,
        "pivotColumns": null,
        "xColumns": null,
        "yColumns": null
       },
       "removedWidgets": [],
       "schema": [
        {
         "metadata": "{}",
         "name": "codigoPostalPS",
         "type": "\"string\""
        },
        {
         "metadata": "{}",
         "name": "catastro_count",
         "type": "\"long\""
        },
        {
         "metadata": "{}",
         "name": "cups_count",
         "type": "\"long\""
        },
        {
         "metadata": "{}",
         "name": "number_of_households",
         "type": "\"long\""
        },
        {
         "metadata": "{}",
         "name": "avg_consumption",
         "type": "\"double\""
        },
        {
         "metadata": "{}",
         "name": "avg_superficie",
         "type": "\"double\""
        },
        {
         "metadata": "{}",
         "name": "avg_participation",
         "type": "\"double\""
        },
        {
         "metadata": "{}",
         "name": "avg_info_impagos",
         "type": "\"double\""
        },
        {
         "metadata": "{}",
         "name": "avg_bono_social",
         "type": "\"double\""
        },
        {
         "metadata": "{}",
         "name": "catastro_Agrario",
         "type": "\"long\""
        },
        {
         "metadata": "{}",
         "name": "catastro_Almac�n,Estac.",
         "type": "\"long\""
        },
        {
         "metadata": "{}",
         "name": "catastro_Comercial",
         "type": "\"long\""
        },
        {
         "metadata": "{}",
         "name": "catastro_Cultural",
         "type": "\"long\""
        },
        {
         "metadata": "{}",
         "name": "catastro_Deportivo",
         "type": "\"long\""
        },
        {
         "metadata": "{}",
         "name": "catastro_Edif. Singular",
         "type": "\"long\""
        },
        {
         "metadata": "{}",
         "name": "catastro_Espect�culos",
         "type": "\"long\""
        },
        {
         "metadata": "{}",
         "name": "catastro_Industrial",
         "type": "\"long\""
        },
        {
         "metadata": "{}",
         "name": "catastro_Industrial agr.",
         "type": "\"long\""
        },
        {
         "metadata": "{}",
         "name": "catastro_Ocio,Hosteler�a",
         "type": "\"long\""
        },
        {
         "metadata": "{}",
         "name": "catastro_Oficinas",
         "type": "\"long\""
        },
        {
         "metadata": "{}",
         "name": "catastro_Religioso",
         "type": "\"long\""
        },
        {
         "metadata": "{}",
         "name": "catastro_Residencial",
         "type": "\"long\""
        },
        {
         "metadata": "{}",
         "name": "catastro_Sanidad,Benefic",
         "type": "\"long\""
        },
        {
         "metadata": "{}",
         "name": "catastro_Suelo sin edif.",
         "type": "\"long\""
        },
        {
         "metadata": "{}",
         "name": "tariffs_1",
         "type": "\"long\""
        },
        {
         "metadata": "{}",
         "name": "tariffs_3",
         "type": "\"long\""
        },
        {
         "metadata": "{}",
         "name": "tariffs_4",
         "type": "\"long\""
        },
        {
         "metadata": "{}",
         "name": "tariffs_5",
         "type": "\"long\""
        },
        {
         "metadata": "{}",
         "name": "tariffs_6",
         "type": "\"long\""
        },
        {
         "metadata": "{}",
         "name": "tariffs_7",
         "type": "\"long\""
        },
        {
         "metadata": "{}",
         "name": "tariffs_8",
         "type": "\"long\""
        },
        {
         "metadata": "{}",
         "name": "tariffs_11",
         "type": "\"long\""
        },
        {
         "metadata": "{}",
         "name": "tariffs_12",
         "type": "\"long\""
        },
        {
         "metadata": "{}",
         "name": "tariffs_18",
         "type": "\"long\""
        },
        {
         "metadata": "{}",
         "name": "tariffs_19",
         "type": "\"long\""
        },
        {
         "metadata": "{}",
         "name": "tariffs_20",
         "type": "\"long\""
        },
        {
         "metadata": "{}",
         "name": "tipoPerfilConsumo_null",
         "type": "\"long\""
        },
        {
         "metadata": "{}",
         "name": "tipoPerfilConsumo_P2.0TD",
         "type": "\"long\""
        },
        {
         "metadata": "{}",
         "name": "tipoPerfilConsumo_P3.0TD",
         "type": "\"long\""
        },
        {
         "metadata": "{}",
         "name": "group_cnae_A.- AGRICULTURA, GANADERÍA, SILVICULTURA Y PESCA",
         "type": "\"long\""
        },
        {
         "metadata": "{}",
         "name": "group_cnae_B.- INDUSTRIAS EXTRACTIVAS",
         "type": "\"long\""
        },
        {
         "metadata": "{}",
         "name": "group_cnae_C.- INDUSTRIA MANUFACTURERA",
         "type": "\"long\""
        },
        {
         "metadata": "{}",
         "name": "group_cnae_D.- SUMINISTRO DE ENERGÍA ELÉCTRICA, GAS, VAPOR Y AIRE ACONDICIONADO",
         "type": "\"long\""
        },
        {
         "metadata": "{}",
         "name": "group_cnae_E.- SUMINISTRO DE AGUA, ACTIVIDADES DE SANEAMIENTO, GESTIÓN DE RESIDUOS Y DESCONTAMINACIÓN",
         "type": "\"long\""
        },
        {
         "metadata": "{}",
         "name": "group_cnae_F.- CONSTRUCCIÓN",
         "type": "\"long\""
        },
        {
         "metadata": "{}",
         "name": "group_cnae_G.- COMERCIO AL POR MAYOR Y AL POR MENOR; REPARACIÓN DE VEHÍCULOS DE MOTOR Y MOTOCICLETAS",
         "type": "\"long\""
        },
        {
         "metadata": "{}",
         "name": "group_cnae_H.- TRANSPORTE Y ALMACENAMIENTO",
         "type": "\"long\""
        },
        {
         "metadata": "{}",
         "name": "group_cnae_I.- HOSTELERÍA",
         "type": "\"long\""
        },
        {
         "metadata": "{}",
         "name": "group_cnae_J.- INFORMACIÓN Y COMUNICACIONES",
         "type": "\"long\""
        },
        {
         "metadata": "{}",
         "name": "group_cnae_K.- ACTIVIDADES FINANCIERAS Y DE SEGUROS",
         "type": "\"long\""
        },
        {
         "metadata": "{}",
         "name": "group_cnae_L.- ACTIVIDADES INMOBILIARIAS",
         "type": "\"long\""
        },
        {
         "metadata": "{}",
         "name": "group_cnae_M.- ACTIVIDADES PROFESIONALES, CIENTÍFICAS Y TÉCNICAS",
         "type": "\"long\""
        },
        {
         "metadata": "{}",
         "name": "group_cnae_N.- ACTIVIDADES ADMINISTRATIVAS Y SERVICIOS AUXLIARES",
         "type": "\"long\""
        },
        {
         "metadata": "{}",
         "name": "group_cnae_O.- ADMINISTRACIÓN PÚBLICA Y DEFENSA; SEGURIDAD SOCIAL OBLIGATORIA",
         "type": "\"long\""
        },
        {
         "metadata": "{}",
         "name": "group_cnae_P.- EDUCACIÓN",
         "type": "\"long\""
        },
        {
         "metadata": "{}",
         "name": "group_cnae_Q.- ACTIVIDADES SANITARIAS Y DE SERVICIOS SOCIALES",
         "type": "\"long\""
        },
        {
         "metadata": "{}",
         "name": "group_cnae_R.- ACTIVIDADES ARTÍSTICAS, RECREATIVAS Y DE ENTRENIMIENTO",
         "type": "\"long\""
        },
        {
         "metadata": "{}",
         "name": "group_cnae_S.- OTROS SERVICIOS",
         "type": "\"long\""
        },
        {
         "metadata": "{}",
         "name": "group_cnae_T.- ACTIVIDADES DE LOS HOGARES COMO EMPLEADORES DE PERSONAL DOMÉSTICO",
         "type": "\"long\""
        },
        {
         "metadata": "{}",
         "name": "group_cnae_U.- ACTIVIDADES DE ORGANIZACIONES Y ORGANISMOS EXTRATERRITORIALES",
         "type": "\"long\""
        },
        {
         "metadata": "{}",
         "name": "group_cnae_Unknown Group",
         "type": "\"long\""
        }
       ],
       "type": "table"
      }
     },
     "output_type": "display_data"
    }
   ],
   "source": [
    "# Join the statistics together\n",
    "combined_stats = (\n",
    "    catastro_count_per_postcode\n",
    "    .join(cups_count_per_postcode, \"codigoPostalPS\")\n",
    "    .join(households_count_per_postcode, \"codigoPostalPS\")\n",
    "    .join(avg_consumption_per_postcode, \"codigoPostalPS\")\n",
    "    .join(avg_size_per_postcode, \"codigoPostalPS\")\n",
    "    .join(avg_participation_per_postcode, \"codigoPostalPS\")\n",
    "    .join(avg_impagos_per_postcode, \"codigoPostalPS\")\n",
    "    .join(avg_bono_social_per_postcode, \"codigoPostalPS\")\n",
    "    .join(catastro_type_per_postcode, \"codigoPostalPS\")\n",
    "    .join(tariffs_per_postcode, \"codigoPostalPS\")\n",
    "    .join(tipoPerfilConsumo_per_postcode, \"codigoPostalPS\")    \n",
    "    .join(cnae_per_postcode, \"codigoPostalPS\")\n",
    ")\n",
    "display(combined_stats.limit(10))"
   ]
  },
  {
   "cell_type": "code",
   "execution_count": 0,
   "metadata": {
    "application/vnd.databricks.v1+cell": {
     "cellMetadata": {
      "byteLimit": 2048000,
      "rowLimit": 10000
     },
     "inputWidgets": {},
     "nuid": "7f3d7b88-2423-4141-a869-6e3c633cd9d3",
     "showTitle": false,
     "title": ""
    }
   },
   "outputs": [],
   "source": [
    "# # Specify the output path and file name for the JSON file\n",
    "output_path = \"/mnt/electricityconsumption/kpis/postcode_kpi_data.json\"\n",
    "\n",
    "# Write the DataFrame to JSON format\n",
    "combined_stats.write.format(\"json\") \\\n",
    "    .mode(\"overwrite\") \\\n",
    "    .save(output_path)"
   ]
  },
  {
   "cell_type": "code",
   "execution_count": 0,
   "metadata": {
    "application/vnd.databricks.v1+cell": {
     "cellMetadata": {
      "byteLimit": 2048000,
      "rowLimit": 10000
     },
     "inputWidgets": {},
     "nuid": "7bb414d0-5562-4903-a1c5-9e9bee3f993c",
     "showTitle": false,
     "title": ""
    }
   },
   "outputs": [],
   "source": [
    "# Unmount the directory\n",
    "#dbutils.fs.unmount(\"/mnt/electricityconsumption\")"
   ]
  }
 ],
 "metadata": {
  "application/vnd.databricks.v1+notebook": {
   "dashboards": [],
   "language": "python",
   "notebookMetadata": {
    "pythonIndentUnit": 4
   },
   "notebookName": "geospatial-model_v1",
   "widgets": {}
  }
 },
 "nbformat": 4,
 "nbformat_minor": 0
}
